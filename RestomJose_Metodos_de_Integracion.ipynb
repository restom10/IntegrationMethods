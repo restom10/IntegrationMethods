{
 "cells": [
  {
   "cell_type": "code",
   "execution_count": 2,
   "metadata": {},
   "outputs": [],
   "source": [
    "import numpy as np\n",
    "import matplotlib.pylab as plt"
   ]
  },
  {
   "cell_type": "code",
   "execution_count": 3,
   "metadata": {},
   "outputs": [],
   "source": [
    "def seno(theta):\n",
    "    return np.sin(theta)"
   ]
  },
  {
   "cell_type": "code",
   "execution_count": 4,
   "metadata": {},
   "outputs": [
    {
     "data": {
      "image/png": "[encoded data removed]",
      "text/plain": [
       "<Figure size 432x288 with 1 Axes>"
      ]
     },
     "metadata": {
      "needs_background": "light"
     },
     "output_type": "display_data"
    }
   ],
   "source": [
    "\n",
    "x = np.linspace(0, np.pi/2, 200)\n",
    "\n",
    "plt.plot(np.linspace(0,np.pi/2,1000),(1)*np.ones(1000))\n",
    "plt.plot(np.linspace(0,np.pi/2,1000),(0)*np.ones(1000))\n",
    "plt.plot((np.pi/2)*np.ones(1000),np.linspace(0,1,1000))\n",
    "plt.plot((0)*np.ones(1000),np.linspace(0,1,1000))\n",
    "\n",
    "\n",
    "\n",
    "plt.plot(x, seno(x))\n",
    "plt.xlabel('Angle [rad]')\n",
    "plt.ylabel('sin(x)')\n",
    "plt.axis('tight')\n",
    "plt.show()\n",
    "plt.close()"
   ]
  },
  {
   "cell_type": "code",
   "execution_count": 5,
   "metadata": {},
   "outputs": [],
   "source": [
    "def puntos_x(n):\n",
    "    x=np.random.rand(n)\n",
    "    x=(np.pi/2)*x\n",
    "    return x"
   ]
  },
  {
   "cell_type": "code",
   "execution_count": 6,
   "metadata": {},
   "outputs": [],
   "source": [
    "def puntos_y(n):\n",
    "    y=np.random.rand(n)\n",
    "    return y\n",
    "    "
   ]
  },
  {
   "cell_type": "markdown",
   "metadata": {},
   "source": [
    "Monte Carlo by stone throwing "
   ]
  },
  {
   "cell_type": "markdown",
   "metadata": {},
   "source": [
    "Voy a trabajarlo sabiendo donde estan mis limites"
   ]
  },
  {
   "cell_type": "code",
   "execution_count": 7,
   "metadata": {},
   "outputs": [],
   "source": [
    "def monteCarlo(n):\n",
    "    \n",
    "    area_cuadrado=1.6\n",
    "    x=puntos_x(n)\n",
    "    y=puntos_y(n)\n",
    "    contador=0\n",
    "    \n",
    "    for i in range(n):\n",
    "        if(y[i]<=seno(x[i])):\n",
    "            contador+=1\n",
    "        \n",
    "    razon=contador/n\n",
    "    \n",
    "    return area_cuadrado*razon\n",
    "    \n",
    "    "
   ]
  },
  {
   "cell_type": "code",
   "execution_count": 9,
   "metadata": {},
   "outputs": [
    {
     "name": "stdout",
     "output_type": "stream",
     "text": [
      "1.0194592\n",
      "La diferencia es con el valor real es de: 1.908776731820166%\n"
     ]
    }
   ],
   "source": [
    "resp=monteCarlo(1000000)\n",
    "print(resp)\n",
    "print(\"La diferencia es con el valor real es de: \"+ str(abs(100*(resp-1)/resp))+\"%\")"
   ]
  },
  {
   "cell_type": "markdown",
   "metadata": {},
   "source": [
    "Valor Medio"
   ]
  },
  {
   "cell_type": "code",
   "execution_count": 8,
   "metadata": {},
   "outputs": [],
   "source": [
    "def meanValue(n):\n",
    "    x=puntos_x(n)\n",
    "    mean=0\n",
    "    for i in range(n):\n",
    "        mean+=seno(x[i])\n",
    "        \n",
    "    mean=mean/n\n",
    "    \n",
    "    return mean*(np.pi/2)\n",
    "    \n",
    "    \n",
    "    "
   ]
  },
  {
   "cell_type": "code",
   "execution_count": 9,
   "metadata": {},
   "outputs": [
    {
     "name": "stdout",
     "output_type": "stream",
     "text": [
      "0.9997431839991823\n",
      "La diferencia es con el valor real es de: 0.025688197221851516%\n"
     ]
    }
   ],
   "source": [
    "resp2=meanValue(10000)\n",
    "print(resp2)\n",
    "print(\"La diferencia es con el valor real es de: \"+ str(abs(100*(resp2-1)/resp2))+\"%\")"
   ]
  },
  {
   "cell_type": "markdown",
   "metadata": {},
   "source": [
    "Bono\n"
   ]
  },
  {
   "cell_type": "code",
   "execution_count": 52,
   "metadata": {},
   "outputs": [],
   "source": [
    "def error(x):\n",
    "    return abs((x-1)/x)"
   ]
  },
  {
   "cell_type": "code",
   "execution_count": 11,
   "metadata": {},
   "outputs": [],
   "source": [
    "arr=[1000,10000,100000,1000000]\n",
    "arr_mean=[]\n",
    "arr_MC=[]\n",
    "\n",
    "for z in range(len(arr)):\n",
    "    arr_mean.append(error(meanValue(arr[z])))\n",
    "    arr_MC.append(error(monteCarlo(arr[z])))\n",
    "    \n",
    "plt.figure()\n",
    "plt.plot(arr,arr_mean,label='Mean')\n",
    "plt.plot(arr,arr_MC,label='Monte Carlo')\n",
    "plt.xlabel(\"Numero de puntos\")\n",
    "plt.ylabel(\"Error\")\n",
    "plt.title(\"Numero de puntos VS Error\")\n",
    "plt.legend()\n",
    "plt.savefig('BonoError.pdf')\n",
    "plt.close()\n",
    "\n",
    "    \n",
    "\n",
    "\n",
    "\n",
    "\n",
    "\n",
    "\n",
    "\n",
    "\n"
   ]
  },
  {
   "cell_type": "code",
   "execution_count": 7,
   "metadata": {},
   "outputs": [],
   "source": [
    "def coseno(x1):\n",
    "\treturn np.cos(x1)"
   ]
  },
  {
   "cell_type": "code",
   "execution_count": 53,
   "metadata": {},
   "outputs": [
    {
     "name": "stdout",
     "output_type": "stream",
     "text": [
      "-0.9997643620454728\n",
      "0.00023569349285974312\n"
     ]
    }
   ],
   "source": [
    "def rectangulos(n):\n",
    "    x=np.linspace(0,3*np.pi/2,n)\n",
    "    h=x[1]-x[0]\n",
    "    resp=0\n",
    "    \n",
    "    for i in range(n):\n",
    "        resp+=h*coseno(x[i])\n",
    "    return resp\n",
    "        \n",
    "\n",
    "x=rectangulos(10001)\n",
    "print(x)\n",
    "print(error(abs(x)))"
   ]
  },
  {
   "cell_type": "code",
   "execution_count": 54,
   "metadata": {},
   "outputs": [
    {
     "name": "stdout",
     "output_type": "stream",
     "text": [
      "-0.9999999814944893\n",
      "1.850551102184359e-08\n"
     ]
    }
   ],
   "source": [
    "def trapezio(n):\n",
    "    x=np.linspace(0,3*np.pi/2,n)\n",
    "    h=x[1]-x[0]\n",
    "    resp=0\n",
    "    \n",
    "    for i in range(n-1):\n",
    "        resp+=h*(coseno(x[i])+coseno(x[i+1]))/2\n",
    "    return resp\n",
    "        \n",
    "\n",
    "x=trapezio(10001)\n",
    "print(x)\n",
    "print(error(abs(x)))\n",
    "    "
   ]
  },
  {
   "cell_type": "code",
   "execution_count": 55,
   "metadata": {},
   "outputs": [
    {
     "name": "stdout",
     "output_type": "stream",
     "text": [
      "-1.0000000000000153\n"
     ]
    }
   ],
   "source": [
    "def simpson(n):\n",
    "    \n",
    "    x=np.linspace(0,3*np.pi/2,n)\n",
    "    h=x[1]-x[0]\n",
    "    arr_f=coseno(x)\n",
    "    arr_final=0\n",
    "    \n",
    "    for i in range(n):\n",
    "        if(i==0):\n",
    "            arr_final+=arr_f[i]*h/3\n",
    "            \n",
    "        elif(i==n-1):\n",
    "            arr_final+=arr_f[i]*h/3\n",
    "            \n",
    "        elif(i%2==0):\n",
    "            arr_final+=arr_f[i]*2*h/3\n",
    "            \n",
    "        else:\n",
    "            arr_final+=arr_f[i]*4*h/3\n",
    "    return arr_final\n",
    "    \n",
    "x=simpson(10000001)\n",
    "print(x)\n",
    "\n",
    "\n",
    "            \n",
    "    "
   ]
  },
  {
   "cell_type": "code",
   "execution_count": 67,
   "metadata": {},
   "outputs": [],
   "source": [
    "def error2(x):\n",
    "    return abs(((1-abs(x))/abs(x)))"
   ]
  },
  {
   "cell_type": "code",
   "execution_count": 69,
   "metadata": {},
   "outputs": [
    {
     "name": "stdout",
     "output_type": "stream",
     "text": [
      "[ -3.71626527  -6.04756155  -8.35297836 -10.65584624 -12.9584596\n",
      " -15.2610472 ]\n",
      "[ -8.59463494 -13.200025   -17.80519726 -22.41036819 -27.00356767\n",
      " -33.64575812]\n",
      "[-17.41259325 -26.62378169 -35.63818828 -33.96421185 -32.40606723\n",
      " -31.80954688]\n"
     ]
    },
    {
     "data": {
      "image/png": "[encoded data removed]",
      "text/plain": [
       "<Figure size 432x288 with 1 Axes>"
      ]
     },
     "metadata": {
      "needs_background": "light"
     },
     "output_type": "display_data"
    }
   ],
   "source": [
    "arr=[101,1001,10001,100001,1000001,10000001]\n",
    "arr_rect=[]\n",
    "arr_trape=[]\n",
    "arr_sim=[]\n",
    "\n",
    "for z in range(len(arr)):\n",
    "    arr_rect.append((error2(rectangulos(arr[z]))))\n",
    "    arr_trape.append((error2(trapezio(arr[z]))))\n",
    "    arr_sim.append((error2(simpson(arr[z]))))\n",
    "\n",
    "arr=np.log(arr)\n",
    "arr_rect=np.log(arr_rect)\n",
    "arr_trape=np.log(arr_trape)\n",
    "arr_sim=np.log(arr_sim)\n",
    "                   \n",
    "print(arr_rect)\n",
    "print(arr_trape)\n",
    "print(arr_sim)\n",
    "\n",
    "plt.figure()\n",
    "plt.plot(arr,arr_rect,label='Rect')\n",
    "plt.plot(arr,arr_trape,label='Trape')\n",
    "plt.plot(arr,arr_sim,label='Sim')\n",
    "plt.xlabel(\"Numero de puntos\")\n",
    "plt.ylabel(\"Error\")\n",
    "plt.title(\"Numero de puntos VS Error\")\n",
    "plt.legend()\n",
    "plt.savefig(\"ErrorRTS.pdf\")\n",
    "plt.show()\n",
    "plt.close()\n",
    "\n",
    "    "
   ]
  },
  {
   "cell_type": "code",
   "execution_count": 35,
   "metadata": {},
   "outputs": [],
   "source": [
    "def puntos_x_neg(n):\n",
    "    x=np.random.rand(n)\n",
    "    x=(np.pi)*x\n",
    "    return x\n",
    "def puntos_y_neg(n):\n",
    "    x=np.random.rand(n)\n",
    "    x=2*x-1\n",
    "    return x\n",
    "    \n",
    "    "
   ]
  },
  {
   "cell_type": "code",
   "execution_count": 38,
   "metadata": {},
   "outputs": [
    {
     "name": "stdout",
     "output_type": "stream",
     "text": [
      "0.9958695282590837\n",
      "0.00439822971502557\n"
     ]
    }
   ],
   "source": [
    "## Metodos de casa Negativos \n",
    "## El de valor medio no se afecta\n",
    "def NegMeanValue(n):\n",
    "    x=puntos_x(n)\n",
    "    mean=0\n",
    "    for i in range(n):\n",
    "        mean+=coseno(x[i])\n",
    "        \n",
    "    mean=mean/n\n",
    "    \n",
    "    return mean*(np.pi/2)\n",
    "    \n",
    "print(NegMeanValue(10000))\n",
    "\n",
    "## Para montecarlo si debemos tener en cuenta que puede haber negativos \n",
    "#El enunciado dice que debe hacerse para coseno entre 0 y pi/2 pero esto es siempre positivo asi que lo modificare para probar \n",
    "def NegMonteCarlo(n):\n",
    "    \n",
    "    area_cuadrado=np.pi\n",
    "    x=puntos_x_neg(n)\n",
    "    y=puntos_y_neg(n)\n",
    "    contador_pos=0\n",
    "    contador_neg=0\n",
    "    Total=0\n",
    "    \n",
    "    for i in range(n):\n",
    "        if(y[i]<=0 and y[i]>=coseno(x[i])):\n",
    "            contador_neg+=1\n",
    "            \n",
    "        elif(y[i]>=0 and y[i]<=coseno(x[i])):\n",
    "            contador_pos+=1\n",
    "            \n",
    "        Total+=1\n",
    "        \n",
    "  \n",
    "    razon=(contador_pos+contador_neg)/Total\n",
    "    Area_enValorABS=razon*area_cuadrado\n",
    "    \n",
    "    Area_Real=Area_enValorABS*(contador_pos/(contador_neg+contador_pos))-Area_enValorABS*(contador_neg/(contador_neg+contador_pos))\n",
    "        \n",
    "    return Area_Real\n",
    "    \n",
    "print(NegMonteCarlo(10000))\n",
    "\n",
    "\n",
    "\n",
    "\n",
    "\n",
    "\n"
   ]
  },
  {
   "cell_type": "code",
   "execution_count": 13,
   "metadata": {},
   "outputs": [],
   "source": [
    "def puntos(n):\n",
    "    x=np.random.rand(n)\n",
    "    x=(np.pi*1.5)*x\n",
    "    return x"
   ]
  },
  {
   "cell_type": "code",
   "execution_count": 22,
   "metadata": {},
   "outputs": [],
   "source": [
    "def f(x1,x2,x3,x4):\n",
    "    return np.cos(x1+x2)*x3*x4"
   ]
  },
  {
   "cell_type": "code",
   "execution_count": 27,
   "metadata": {},
   "outputs": [],
   "source": [
    "def meanValue2(n):\n",
    "    x1=puntos(n)\n",
    "    x2=puntos(n)\n",
    "    x3=puntos(n)\n",
    "    x4=puntos(n)\n",
    "    mean=0\n",
    "    for i in range(n):\n",
    "        mean+=f(x1[i],x2[i],x3[i],x4[i])\n",
    "        \n",
    "    mean=mean/n\n",
    "    \n",
    "    return mean*(1.5*np.pi)**4\n",
    "    "
   ]
  },
  {
   "cell_type": "code",
   "execution_count": 45,
   "metadata": {},
   "outputs": [],
   "source": [
    "def promedio(n):\n",
    "    promedio=0\n",
    "    for i in range(n):\n",
    "        promedio+=(meanValue2(10000))\n",
    "    return promedio/n"
   ]
  },
  {
   "cell_type": "code",
   "execution_count": 44,
   "metadata": {},
   "outputs": [
    {
     "name": "stdout",
     "output_type": "stream",
     "text": [
      "-0.00901160155128542\n"
     ]
    }
   ],
   "source": [
    "print(promedio(10))\n",
    "#Luego de probar muchas veces escogi el numero de puntos e intentos empiricamente al ver los resultados que obtenia "
   ]
  },
  {
   "cell_type": "code",
   "execution_count": 47,
   "metadata": {},
   "outputs": [],
   "source": [
    "def f2(x):\n",
    "    return 1/(x**2)"
   ]
  },
  {
   "cell_type": "code",
   "execution_count": 70,
   "metadata": {},
   "outputs": [],
   "source": [
    "def meanValue3(n):\n",
    "    x=np.random.rand(n)\n",
    "    mean=0\n",
    "    for i in range(n):\n",
    "        mean+=(f2(x[i]))\n",
    "               \n",
    "    mean=(mean/n)\n",
    "    \n",
    "    return mean\n",
    "    \n",
    "    "
   ]
  },
  {
   "cell_type": "code",
   "execution_count": 74,
   "metadata": {},
   "outputs": [
    {
     "name": "stdout",
     "output_type": "stream",
     "text": [
      "40152.44596923163\n"
     ]
    }
   ],
   "source": [
    "print(meanValue3(100000))\n",
    "#El numero de puntos lo escogi empiricamente luego de muchos intentos "
   ]
  },
  {
   "cell_type": "markdown",
   "metadata": {},
   "source": [
    "Como los puntos se escogen al azar, es poco probable que tome el cero y por ello puedo integrar sin problemas. Sin embargo, cabe recalcar que la integral va a dar valores muy diferentes cada vez que se ejecute devido a que el valor \"real\" de la integral es infinito. Seria apropiado escoger un epsilon que me determine que tan cerca de cero quiero ir, para asi tener una idea de que tan lejos estoy del valor real."
   ]
  },
  {
   "cell_type": "code",
   "execution_count": 41,
   "metadata": {},
   "outputs": [],
   "source": [
    "datos = np.genfromtxt(\"datos.txt\")"
   ]
  },
  {
   "cell_type": "code",
   "execution_count": 42,
   "metadata": {},
   "outputs": [],
   "source": [
    "datos_x=datos[:,0]\n",
    "datos_y=datos[:,1]"
   ]
  },
  {
   "cell_type": "code",
   "execution_count": 39,
   "metadata": {},
   "outputs": [],
   "source": [
    "import scipy\n",
    "from scipy import interpolate\n",
    "from scipy.interpolate import interp1d"
   ]
  },
  {
   "cell_type": "code",
   "execution_count": 49,
   "metadata": {},
   "outputs": [
    {
     "data": {
      "image/png": "[encoded data removed]",
      "text/plain": [
       "<Figure size 432x288 with 1 Axes>"
      ]
     },
     "metadata": {
      "needs_background": "light"
     },
     "output_type": "display_data"
    }
   ],
   "source": [
    "x = np.linspace(0, 12, num=15, endpoint=True)\n",
    "y = datos_y\n",
    ">>> f = interp1d(x, y, kind='quadratic')\n",
    ">>> f2 = interp1d(x, y, kind='cubic')\n",
    "\n",
    ">>> xnew = np.linspace(0, 12, num=50, endpoint=True)\n",
    "\n",
    ">>> plt.plot(x, y, 'o', xnew, f(xnew), '-', xnew, f2(xnew), '--')\n",
    ">>> plt.legend(['data', 'quadratic', 'cubic'], loc='best')\n",
    ">>> plt.show()\n",
    "plt.close()\n",
    "\n"
   ]
  },
  {
   "cell_type": "code",
   "execution_count": null,
   "metadata": {},
   "outputs": [],
   "source": []
  }
 ],
 "metadata": {
  "kernelspec": {
   "display_name": "Python 3",
   "language": "python",
   "name": "python3"
  },
  "language_info": {
   "codemirror_mode": {
    "name": "ipython",
    "version": 3
   },
   "file_extension": ".py",
   "mimetype": "text/x-python",
   "name": "python",
   "nbconvert_exporter": "python",
   "pygments_lexer": "ipython3",
   "version": "3.7.0"
  }
 },
 "nbformat": 4,
 "nbformat_minor": 2
}
